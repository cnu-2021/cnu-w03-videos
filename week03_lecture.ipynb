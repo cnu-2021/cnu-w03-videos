{
 "cells": [
  {
   "cell_type": "markdown",
   "metadata": {
    "slideshow": {
     "slide_type": "slide"
    }
   },
   "source": [
    "# Week 3: Conditional statements\n",
    "\n",
    "Charlotte Desvages"
   ]
  },
  {
   "cell_type": "markdown",
   "metadata": {
    "slideshow": {
     "slide_type": "slide"
    }
   },
   "source": [
    "## Conditional statements\n",
    "\n",
    "Conditional statements allow you to **create branches** in your code, and with the help of Booleans, to **make decisions** about which path(s) to take.\n",
    "\n",
    "They are another **control flow** tool (like loops or functions)."
   ]
  },
  {
   "cell_type": "code",
   "execution_count": null,
   "metadata": {
    "slideshow": {
     "slide_type": "fragment"
    }
   },
   "outputs": [],
   "source": [
    "age = int(input('How old are you? '))\n",
    "license = input('Do you have a driving license? Y/N ')\n",
    "\n",
    "if age >= 17:\n",
    "    if license in ['Y', 'y', 'yes']:\n",
    "        print('You can drive in the UK.')\n",
    "    elif license in ['N', 'n', 'no']:\n",
    "        print('Get your license!')\n",
    "    else:\n",
    "        print('I didn\\'t get that...')\n",
    "else:\n",
    "    print('You are too young to drive!')"
   ]
  },
  {
   "cell_type": "markdown",
   "metadata": {
    "slideshow": {
     "slide_type": "slide"
    }
   },
   "source": [
    "## Stopping a loop early with `break`\n",
    "\n",
    "It is useful sometimes to interrupt a loop early if a given condition is satisfied."
   ]
  },
  {
   "cell_type": "code",
   "execution_count": null,
   "metadata": {
    "slideshow": {
     "slide_type": "slide"
    }
   },
   "outputs": [],
   "source": [
    "import time\n",
    "import numpy as np\n",
    "\n",
    "road_size = 4\n",
    "max_steps = 20\n",
    "\n",
    "rng = np.random.default_rng()    # random number generator\n",
    "pos = 0    # start from the middle of the road\n",
    "steps = 0\n",
    "\n",
    "while True:    # keep walking...\n",
    "    n = rng.choice([-1, 1])    # Random choice: left (-1) or right (+1)\n",
    "    pos += n                   # Update position\n",
    "    steps += 1                 # Update number of steps\n",
    "\n",
    "    if abs(pos) > road_size:   # If we went off the road, stop the loop early, display a message\n",
    "        print('Went into the ditch! :(')\n",
    "        break\n",
    "\n",
    "    # Show the step\n",
    "    print('|' + ' '*(road_size + pos) + 'o' + ' '*(road_size - pos) + '|')\n",
    "    time.sleep(.3)\n",
    "\n",
    "    if steps >= max_steps:\n",
    "        print('Success! :)')\n",
    "        break"
   ]
  },
  {
   "cell_type": "markdown",
   "metadata": {},
   "source": [
    "#### Note: random number generation\n",
    "\n",
    "*To see line numbers in Jupyter, in the menu bar at the top, click \"View\" > \"Toggle line numbers\".*\n",
    "\n",
    "Lines 7 and 12 in the cell above are used to randomly pick between -1 and 1. They use a different syntax from what we've seen in the tutorials so far for random number generation; this is the syntax [recommended by NumPy for versions 1.17 and above](https://numpy.org/doc/stable/reference/random/index.html#module-numpy.random).\n",
    "\n",
    "If your version of NumPy is 1.16 or lower, the code above might not work. In that case, you can use [the old syntax](https://numpy.org/doc/1.16/reference/generated/numpy.random.choice.html#numpy.random.choice): delete (or comment out) line 7, and replace line 12 with\n",
    "```python\n",
    "n = np.random.choice([-1, 1])\n",
    "```\n",
    "\n",
    "Note that the old syntax still works with new versions of NumPy (although it will be deprecated at some point in the future)."
   ]
  },
  {
   "cell_type": "markdown",
   "metadata": {
    "slideshow": {
     "slide_type": "slide"
    }
   },
   "source": [
    "# Week 3: NumPy arrays\n",
    "\n",
    "Charlotte Desvages"
   ]
  },
  {
   "cell_type": "markdown",
   "metadata": {
    "slideshow": {
     "slide_type": "slide"
    }
   },
   "source": [
    "## Creating NumPy arrays\n",
    "\n",
    "NumPy arrays are a type of container (like lists) which is useful for mathematics, as it can represent vectors and matrices."
   ]
  },
  {
   "cell_type": "code",
   "execution_count": null,
   "metadata": {
    "slideshow": {
     "slide_type": "fragment"
    }
   },
   "outputs": [],
   "source": [
    "# Start by importing Numpy\n",
    "import numpy as np\n",
    "\n",
    "my_array = np.array([1, 4, 2.2, -9, 0])\n",
    "print(my_array)\n",
    "\n",
    "my_mat = np.array([[1, 2, 3], [4, 5, 6], [7, 8, 9], [10, 11, 12]], dtype=float)\n",
    "print(my_mat)\n",
    "\n",
    "print(my_mat.shape[1])\n",
    "print(my_array.shape[0])"
   ]
  },
  {
   "cell_type": "markdown",
   "metadata": {
    "slideshow": {
     "slide_type": "slide"
    }
   },
   "source": [
    "### Useful functions to create arrays"
   ]
  },
  {
   "cell_type": "code",
   "execution_count": null,
   "metadata": {
    "slideshow": {
     "slide_type": "fragment"
    }
   },
   "outputs": [],
   "source": [
    "# Z = np.zeros([2, 5])\n",
    "# print(Z)\n",
    "\n",
    "# N = np.ones([3, 3])\n",
    "# print(N)\n",
    "\n",
    "# I = np.eye(10)\n",
    "# print(I)\n",
    "\n",
    "# a = -10\n",
    "# b = 10\n",
    "# R = (b - a) * np.random.random([3, 6]) + a\n",
    "# print(R)\n",
    "\n",
    "l = np.arange(0.2, 1.7, 0.3)\n",
    "print(l)\n",
    "\n",
    "m = np.linspace(0.2, 1.7, 5)\n",
    "print(m)"
   ]
  },
  {
   "cell_type": "markdown",
   "metadata": {
    "slideshow": {
     "slide_type": "slide"
    }
   },
   "source": [
    "### Indexing and slicing\n",
    "\n",
    "We can access individual elements and \"slices\" (sub-arrays) of a NumPy array by using similar syntax as we do for lists."
   ]
  },
  {
   "cell_type": "code",
   "execution_count": null,
   "metadata": {
    "slideshow": {
     "slide_type": "fragment"
    }
   },
   "outputs": [],
   "source": [
    "A = np.array([[1, 2, 3, 4],\n",
    "              [10, 20, 30, 40],\n",
    "              [100, 200, 300, 400]])\n",
    "\n",
    "# Individual elements\n",
    "print(A[1, 3])\n",
    "\n",
    "print(type(A[1, 1:3]))\n",
    "\n",
    "print(A[1:, 2:])\n",
    "\n",
    "print(A[-1, ::2])\n",
    "\n",
    "print(A[:, 0])"
   ]
  },
  {
   "cell_type": "markdown",
   "metadata": {
    "slideshow": {
     "slide_type": "slide"
    }
   },
   "source": [
    "### Copying an array or a slice\n",
    "\n",
    "Be careful when creating a new array from another one! If you want a separate copy of the values, you need to ask explicitly."
   ]
  },
  {
   "cell_type": "code",
   "execution_count": null,
   "metadata": {
    "slideshow": {
     "slide_type": "fragment"
    }
   },
   "outputs": [],
   "source": [
    "A = np.array([[1, 2, 3, 4],\n",
    "              [10, 20, 30, 40],\n",
    "              [100, 200, 300, 400]])\n",
    "\n",
    "v = A[-1, :].copy()\n",
    "print(v)\n",
    "\n",
    "v[2] = 999\n",
    "print(v)\n",
    "print(A)"
   ]
  },
  {
   "cell_type": "markdown",
   "metadata": {
    "slideshow": {
     "slide_type": "slide"
    }
   },
   "source": [
    "### Array operations\n",
    "\n",
    "- `+`, `-`, `*`, `/` are **element-wise**\n",
    "- `@` or `np.matmul()` for **matrix**/**matrix-vector** products"
   ]
  },
  {
   "cell_type": "code",
   "execution_count": null,
   "metadata": {
    "slideshow": {
     "slide_type": "fragment"
    }
   },
   "outputs": [],
   "source": [
    "A = np.array([[1, 2, 3, 4],\n",
    "              [10, 20, 30, 40],\n",
    "              [100, 200, 300, 400]])\n",
    "\n",
    "B = 2 * np.ones([4, 4])\n",
    "# print(B)\n",
    "\n",
    "# print(A + B)\n",
    "# print(A - B)\n",
    "# print(A / B)\n",
    "# print(B * 5)\n",
    "# print(A @ B)\n",
    "# print(np.matmul(A, B))\n",
    "\n",
    "v = A[0, :].copy()\n",
    "print(v @ v)"
   ]
  }
 ],
 "metadata": {
  "celltoolbar": "Slideshow",
  "kernelspec": {
   "display_name": "Python 3",
   "language": "python",
   "name": "python3"
  },
  "language_info": {
   "codemirror_mode": {
    "name": "ipython",
    "version": 3
   },
   "file_extension": ".py",
   "mimetype": "text/x-python",
   "name": "python",
   "nbconvert_exporter": "python",
   "pygments_lexer": "ipython3",
   "version": "3.7.6"
  }
 },
 "nbformat": 4,
 "nbformat_minor": 4
}
